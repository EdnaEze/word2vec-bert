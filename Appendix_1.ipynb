{
  "nbformat": 4,
  "nbformat_minor": 0,
  "metadata": {
    "colab": {
      "provenance": []
    },
    "kernelspec": {
      "name": "python3",
      "display_name": "Python 3"
    },
    "language_info": {
      "name": "python"
    }
  },
  "cells": [
    {
      "cell_type": "markdown",
      "source": [
        "# PROPAGANDA CLASSIFICATION WITH UNCONTEXTUALIZED WORD EMBEDING - WORD2VEC"
      ],
      "metadata": {
        "id": "CvYxe_KQPyLa"
      }
    },
    {
      "cell_type": "code",
      "execution_count": 1,
      "metadata": {
        "id": "Azgc4Zzum3Ng"
      },
      "outputs": [],
      "source": [
        "# Basic imports\n",
        "import pandas as pd\n",
        "import numpy as np\n",
        "import torch\n",
        "import torch.nn as nn\n",
        "import torch.optim as optim\n",
        "import re\n",
        "import string\n",
        "import nltk\n",
        "import matplotlib.pyplot as plt\n",
        "from nltk.corpus import stopwords\n",
        "from gensim.models import Word2Vec\n",
        "from sklearn.linear_model import LogisticRegression\n",
        "from sklearn.preprocessing import LabelEncoder\n",
        "from sklearn.metrics import accuracy_score, classification_report, confusion_matrix, ConfusionMatrixDisplay"
      ]
    },
    {
      "cell_type": "code",
      "source": [
        "# load data\n",
        "train_data = pd.read_csv(\"/content/drive/MyDrive/ee278/ANLP assignment/propaganda_dataset_v2/propaganda_train.tsv\", delimiter=\"\\t\")\n",
        "test_data = pd.read_csv(\"/content/drive/MyDrive/ee278/ANLP assignment/propaganda_dataset_v2/propaganda_val.tsv\", delimiter=\"\\t\")"
      ],
      "metadata": {
        "id": "M9mB-JyDnZju"
      },
      "execution_count": 2,
      "outputs": []
    },
    {
      "cell_type": "markdown",
      "source": [
        "## PREPROCESS DATA"
      ],
      "metadata": {
        "id": "pRJ9QsYUzXja"
      }
    },
    {
      "cell_type": "code",
      "source": [
        "nltk.download('stopwords')\n",
        "nltk.download('wordnet')\n",
        "nltk.download('punkt')\n",
        "\n",
        "def preprocess(text):\n",
        "    text = text.lower()\n",
        "    \n",
        "    # Remove punctuation, except for <>\n",
        "    exclude = set(string.punctuation) - set('<>')\n",
        "    text = ''.join(ch for ch in text if ch not in exclude)\n",
        "  \n",
        "    tokens = nltk.word_tokenize(text)\n",
        "    stop_words = set(stopwords.words('english'))\n",
        "    tokens = [word for word in tokens if word not in stop_words]\n",
        "  \n",
        "    text = ' '.join(tokens)\n",
        "    return text"
      ],
      "metadata": {
        "colab": {
          "base_uri": "https://localhost:8080/"
        },
        "id": "h8KcCCGhzM4m",
        "outputId": "5ea4d8b3-117d-4041-ba75-74fda2cda246"
      },
      "execution_count": 3,
      "outputs": [
        {
          "output_type": "stream",
          "name": "stderr",
          "text": [
            "[nltk_data] Downloading package stopwords to /root/nltk_data...\n",
            "[nltk_data]   Package stopwords is already up-to-date!\n",
            "[nltk_data] Downloading package wordnet to /root/nltk_data...\n",
            "[nltk_data]   Package wordnet is already up-to-date!\n",
            "[nltk_data] Downloading package punkt to /root/nltk_data...\n",
            "[nltk_data]   Package punkt is already up-to-date!\n"
          ]
        }
      ]
    },
    {
      "cell_type": "code",
      "source": [
        "train_data['tagged_in_context'].apply(preprocess)"
      ],
      "metadata": {
        "colab": {
          "base_uri": "https://localhost:8080/"
        },
        "id": "4nngbOBy1ilT",
        "outputId": "6f8bf030-91bb-434c-fa2f-efc74a4cf2d3"
      },
      "execution_count": 4,
      "outputs": [
        {
          "output_type": "execute_result",
          "data": {
            "text/plain": [
              "0                               < bos > < eos > confirmed\n",
              "1       declassification effort < bos > ’ make things ...\n",
              "2       obama administration misled < bos > american p...\n",
              "3       “ looks like ’ capturing demise dark vortex < ...\n",
              "4               < bos > location westerville ohio < eos >\n",
              "                              ...                        \n",
              "2409        < bos > support appreciate < eos > business ”\n",
              "2410    international atomic energy agency iaea direct...\n",
              "2411    done work formation year course ongoing format...\n",
              "2412      < bos > law gradualness gradualness law < eos >\n",
              "2413    jews described “ arrogant ” “ jealous ” “ < bo...\n",
              "Name: tagged_in_context, Length: 2414, dtype: object"
            ]
          },
          "metadata": {},
          "execution_count": 4
        }
      ]
    },
    {
      "cell_type": "code",
      "source": [
        "# Preprocess the data\n",
        "train_sentences = [sentence.split() for sentence in train_data[\"tagged_in_context\"].apply(preprocess)]\n",
        "test_sentences = [sentence.split() for sentence in test_data[\"tagged_in_context\"].apply(preprocess)]\n",
        "train_labels = train_data[\"label\"]\n",
        "test_labels = test_data[\"label\"]"
      ],
      "metadata": {
        "id": "2uzhd6kgqsqk"
      },
      "execution_count": 5,
      "outputs": []
    },
    {
      "cell_type": "code",
      "source": [
        "train_sentences[1]"
      ],
      "metadata": {
        "colab": {
          "base_uri": "https://localhost:8080/"
        },
        "id": "plUMbMXk37oZ",
        "outputId": "e5273574-68c2-4c61-f13f-174dab7dce90"
      },
      "execution_count": 6,
      "outputs": [
        {
          "output_type": "execute_result",
          "data": {
            "text/plain": [
              "['declassification',\n",
              " 'effort',\n",
              " '<',\n",
              " 'bos',\n",
              " '>',\n",
              " '’',\n",
              " 'make',\n",
              " 'things',\n",
              " 'worse',\n",
              " 'president',\n",
              " 'trump',\n",
              " '<',\n",
              " 'eos',\n",
              " '>']"
            ]
          },
          "metadata": {},
          "execution_count": 6
        }
      ]
    },
    {
      "cell_type": "markdown",
      "source": [
        "# TASK 1"
      ],
      "metadata": {
        "id": "GV-aodjRMoJk"
      }
    },
    {
      "cell_type": "code",
      "source": [
        "# Map the labels to 0 or 1\n",
        "train_labels_task1 = [0 if label==\"not_propaganda\" else 1 for label in train_labels]\n",
        "test_labels_task1 = [0 if label==\"not_propaganda\" else 1 for label in test_labels]"
      ],
      "metadata": {
        "id": "IZOccUCRMrrL"
      },
      "execution_count": 7,
      "outputs": []
    },
    {
      "cell_type": "code",
      "source": [
        "#Train Word2Vec model\n",
        "w2v_model = Word2Vec(train_sentences, vector_size=300, window=5, min_count=5, alpha=0.07)"
      ],
      "metadata": {
        "id": "HAp86nyIqstE"
      },
      "execution_count": 8,
      "outputs": []
    },
    {
      "cell_type": "code",
      "source": [
        "#Define function to convert sentences to vectors using Word2Vec model\n",
        "def sentence_to_vec(sentence, model):\n",
        "    vec = np.zeros(300)\n",
        "    count = 0\n",
        "    for word in sentence:\n",
        "        try:\n",
        "            vec += model.wv[word]\n",
        "            count += 1\n",
        "        except KeyError:\n",
        "            pass\n",
        "    if count != 0:\n",
        "        vec /= count\n",
        "    return vec"
      ],
      "metadata": {
        "id": "qT7FoApDqsw6"
      },
      "execution_count": 9,
      "outputs": []
    },
    {
      "cell_type": "code",
      "source": [
        "#Convert sentences to vectors using Word2Vec model\n",
        "train_embeddings = [sentence_to_vec(sentence, w2v_model) for sentence in train_sentences]\n",
        "test_embeddings = [sentence_to_vec(sentence, w2v_model) for sentence in test_sentences]"
      ],
      "metadata": {
        "id": "tgDttDNZqs4X"
      },
      "execution_count": 10,
      "outputs": []
    },
    {
      "cell_type": "code",
      "source": [
        "# Train a logistic regression classifier for task 1\n",
        "lr1 = LogisticRegression(random_state=42, C=0.1, max_iter=500, solver='lbfgs',penalty='l2')\n",
        "lr1.fit(train_embeddings, train_labels_task1)\n",
        "predictions = lr1.predict(test_embeddings)\n",
        "\n",
        "# Get classification report\n",
        "accuracy = accuracy_score(test_labels_task1, predictions)\n",
        "report = classification_report(test_labels_task1, predictions, target_names=[\"not_propaganda\", \"propaganda\"])\n",
        "con_matrix = confusion_matrix(test_labels_task1, predictions)"
      ],
      "metadata": {
        "id": "2QA_niPJr1-D"
      },
      "execution_count": 11,
      "outputs": []
    },
    {
      "cell_type": "code",
      "source": [
        "# Print classification report\n",
        "print(\"Task 1 Accuracy - Word2Vec: \", accuracy)\n",
        "print(\"\\nTask 1 Classification Report - Word2Vec:\\n\", report)\n",
        "print(\"\\nTask 1 Confusion Matrix -  Word2Vec:\\n\", con_matrix)"
      ],
      "metadata": {
        "colab": {
          "base_uri": "https://localhost:8080/"
        },
        "id": "R2waFauDLZf7",
        "outputId": "136dcc96-5ebd-4b61-affe-d9daf9af285c"
      },
      "execution_count": 12,
      "outputs": [
        {
          "output_type": "stream",
          "name": "stdout",
          "text": [
            "Task 1 Accuracy - Word2Vec:  0.6068965517241379\n",
            "\n",
            "Task 1 Classification Report - Word2Vec:\n",
            "                 precision    recall  f1-score   support\n",
            "\n",
            "not_propaganda       0.62      0.61      0.62       301\n",
            "    propaganda       0.59      0.61      0.60       279\n",
            "\n",
            "      accuracy                           0.61       580\n",
            "     macro avg       0.61      0.61      0.61       580\n",
            "  weighted avg       0.61      0.61      0.61       580\n",
            "\n",
            "\n",
            "Task 1 Confusion Matrix -  Word2Vec:\n",
            " [[183 118]\n",
            " [110 169]]\n"
          ]
        }
      ]
    },
    {
      "cell_type": "code",
      "source": [
        "ConfusionMatrixDisplay.from_predictions(test_labels_task1, predictions)\n",
        "print(\"Task 1 Confusion Matrix - Word2Vec\")\n",
        "plt.show()"
      ],
      "metadata": {
        "colab": {
          "base_uri": "https://localhost:8080/",
          "height": 466
        },
        "id": "NMjLhWf9OZcU",
        "outputId": "d7360bcd-b800-4e5f-d962-a279872c663a"
      },
      "execution_count": 13,
      "outputs": [
        {
          "output_type": "stream",
          "name": "stdout",
          "text": [
            "Task 1 Confusion Matrix - Word2Vec\n"
          ]
        },
        {
          "output_type": "display_data",
          "data": {
            "text/plain": [
              "<Figure size 640x480 with 2 Axes>"
            ],
            "image/png": "[encoded data removed]"
          },
          "metadata": {}
        }
      ]
    },
    {
      "cell_type": "markdown",
      "source": [
        "# TASK 2"
      ],
      "metadata": {
        "id": "oas-N3BjO4Qy"
      }
    },
    {
      "cell_type": "code",
      "source": [
        "# Encode the labels for task 2\n",
        "le = LabelEncoder()\n",
        "train_labels_task2 = le.fit_transform(train_labels)\n",
        "test_labels_task2 = le.fit_transform(test_labels)"
      ],
      "metadata": {
        "id": "HqXKpQRkTGLf"
      },
      "execution_count": 14,
      "outputs": []
    },
    {
      "cell_type": "code",
      "source": [
        "# Train a logistic regression classifier for task 1\n",
        "lr2 = LogisticRegression(random_state=42, multi_class='multinomial', C=0.1, max_iter=500, solver='lbfgs',penalty='l2', class_weight='balanced')\n",
        "lr2.fit(train_embeddings, train_labels_task2)\n",
        "predictions2 = lr2.predict(test_embeddings)\n",
        "\n",
        "# Get Classification report\n",
        "accuracy2 = accuracy_score(test_labels_task2, predictions2)\n",
        "report2 = classification_report(test_labels_task2, predictions2, zero_division=1, target_names=le.classes_) \n",
        "con_matrix2 = confusion_matrix(test_labels_task2, predictions2)"
      ],
      "metadata": {
        "id": "ROs-JzP2r18g"
      },
      "execution_count": 15,
      "outputs": []
    },
    {
      "cell_type": "code",
      "source": [
        "# Print the results\n",
        "print(\"Task 2 Accuracy - Word2vec: \", accuracy2)\n",
        "print(\"\\nTask 2 Classification Report - Word2Vec:\\n\", report2)\n",
        "print(\"\\nTask 2 Confusion Matrix - Word2Vec:\\n\", con_matrix2)\n"
      ],
      "metadata": {
        "colab": {
          "base_uri": "https://localhost:8080/"
        },
        "id": "IrRTr-3hr2AF",
        "outputId": "3e5466c6-b709-4207-f0af-250a6c74c2c8"
      },
      "execution_count": 16,
      "outputs": [
        {
          "output_type": "stream",
          "name": "stdout",
          "text": [
            "Task 2 Accuracy - Word2vec:  0.3603448275862069\n",
            "\n",
            "Task 2 Classification Report - Word2Vec:\n",
            "                            precision    recall  f1-score   support\n",
            "\n",
            " appeal_to_fear_prejudice       0.10      0.02      0.04        43\n",
            "causal_oversimplification       0.00      0.00      0.00        31\n",
            "                    doubt       0.18      0.05      0.08        38\n",
            "exaggeration,minimisation       1.00      0.00      0.00        28\n",
            "              flag_waving       0.06      0.10      0.08        39\n",
            "          loaded_language       0.07      0.05      0.06        37\n",
            "    name_calling,labeling       0.08      0.42      0.14        31\n",
            "           not_propaganda       0.62      0.62      0.62       301\n",
            "               repetition       0.11      0.03      0.05        32\n",
            "\n",
            "                 accuracy                           0.36       580\n",
            "                macro avg       0.25      0.14      0.12       580\n",
            "             weighted avg       0.41      0.36      0.35       580\n",
            "\n",
            "\n",
            "Task 2 Confusion Matrix - Word2Vec:\n",
            " [[  1   1   1   0   5   2  14  19   0]\n",
            " [  0   0   2   0   5   2  12  10   0]\n",
            " [  2   0   2   0   5   2  13  14   0]\n",
            " [  0   0   0   0   7   1   9  11   0]\n",
            " [  0   0   2   0   4   2  16  15   0]\n",
            " [  0   0   1   0   5   2   9  19   1]\n",
            " [  0   0   1   0   6   2  13   9   0]\n",
            " [  6   2   1   0  21  14  64 186   7]\n",
            " [  1   0   1   0   4   1   8  16   1]]\n"
          ]
        }
      ]
    },
    {
      "cell_type": "code",
      "source": [
        "ConfusionMatrixDisplay.from_predictions(test_labels_task2, predictions2)\n",
        "print(\"Task 2 Confusion Matrix - Word2Vec\")\n",
        "plt.show()"
      ],
      "metadata": {
        "colab": {
          "base_uri": "https://localhost:8080/",
          "height": 466
        },
        "id": "nMV-fDGVr2Gq",
        "outputId": "fdd26864-21f9-47cf-e954-28d4e98deb20"
      },
      "execution_count": 17,
      "outputs": [
        {
          "output_type": "stream",
          "name": "stdout",
          "text": [
            "Task 2 Confusion Matrix - Word2Vec\n"
          ]
        },
        {
          "output_type": "display_data",
          "data": {
            "text/plain": [
              "<Figure size 640x480 with 2 Axes>"
            ],
            "image/png": "[encoded data removed]"
          },
          "metadata": {}
        }
      ]
    },
    {
      "cell_type": "markdown",
      "source": [
        "\n",
        "## REFERENCES\n",
        "\n",
        "Sklearn Logistic Regression. https://scikit-learn.org/stable/modules/linear_model.html#logistic-regression\n",
        "\n",
        "Sklearn Classification report. https://scikit-learn.org/stable/modules/generated/sklearn.metrics.classification_report.html\n",
        "\n",
        "Sklearn Confusion matrix. https://scikit-learn.org/stable/modules/generated/sklearn.metrics.ConfusionMatrixDisplay.html\n",
        "\n",
        "Sklearn Accuracy. https://scikit-learn.org/stable/modules/generated/sklearn.metrics.accuracy_score.html#sklearn.metrics.accuracy_score\n",
        "\n",
        "Gensim model. https://radimrehurek.com/gensim/models/word2vec.html\n",
        "\n",
        "Mimi Duta. https://www.analyticsvidhya.com/blog/2021/07/word2vec-for-word-embeddings-a-beginners-guide/"
      ],
      "metadata": {
        "id": "bhYbaLw3X1hC"
      }
    }
  ]
}